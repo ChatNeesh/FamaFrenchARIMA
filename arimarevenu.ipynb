{
  "nbformat": 4,
  "nbformat_minor": 0,
  "metadata": {
    "colab": {
      "provenance": [],
      "authorship_tag": "ABX9TyPNmbSzInJJNqb9tKR5LpRS"
    },
    "kernelspec": {
      "name": "python3",
      "display_name": "Python 3"
    },
    "language_info": {
      "name": "python"
    }
  },
  "cells": [
    {
      "cell_type": "code",
      "execution_count": null,
      "metadata": {
        "colab": {
          "base_uri": "https://localhost:8080/"
        },
        "id": "G93RcpxjllT0",
        "outputId": "7a87823f-f7b4-4717-866a-bf62a59c523d"
      },
      "outputs": [
        {
          "output_type": "stream",
          "name": "stdout",
          "text": [
            "Requirement already satisfied: yfinance in /usr/local/lib/python3.10/dist-packages (0.2.43)\n",
            "Requirement already satisfied: pandas in /usr/local/lib/python3.10/dist-packages (2.1.4)\n",
            "Requirement already satisfied: numpy in /usr/local/lib/python3.10/dist-packages (1.26.4)\n",
            "Collecting pmdarima\n",
            "  Downloading pmdarima-2.0.4-cp310-cp310-manylinux_2_17_x86_64.manylinux2014_x86_64.manylinux_2_28_x86_64.whl.metadata (7.8 kB)\n",
            "Requirement already satisfied: scikit-learn in /usr/local/lib/python3.10/dist-packages (1.3.2)\n",
            "Requirement already satisfied: requests>=2.31 in /usr/local/lib/python3.10/dist-packages (from yfinance) (2.32.3)\n",
            "Requirement already satisfied: multitasking>=0.0.7 in /usr/local/lib/python3.10/dist-packages (from yfinance) (0.0.11)\n",
            "Requirement already satisfied: lxml>=4.9.1 in /usr/local/lib/python3.10/dist-packages (from yfinance) (4.9.4)\n",
            "Requirement already satisfied: platformdirs>=2.0.0 in /usr/local/lib/python3.10/dist-packages (from yfinance) (4.2.2)\n",
            "Requirement already satisfied: pytz>=2022.5 in /usr/local/lib/python3.10/dist-packages (from yfinance) (2024.1)\n",
            "Requirement already satisfied: frozendict>=2.3.4 in /usr/local/lib/python3.10/dist-packages (from yfinance) (2.4.4)\n",
            "Requirement already satisfied: peewee>=3.16.2 in /usr/local/lib/python3.10/dist-packages (from yfinance) (3.17.6)\n",
            "Requirement already satisfied: beautifulsoup4>=4.11.1 in /usr/local/lib/python3.10/dist-packages (from yfinance) (4.12.3)\n",
            "Requirement already satisfied: html5lib>=1.1 in /usr/local/lib/python3.10/dist-packages (from yfinance) (1.1)\n",
            "Requirement already satisfied: python-dateutil>=2.8.2 in /usr/local/lib/python3.10/dist-packages (from pandas) (2.8.2)\n",
            "Requirement already satisfied: tzdata>=2022.1 in /usr/local/lib/python3.10/dist-packages (from pandas) (2024.1)\n",
            "Requirement already satisfied: joblib>=0.11 in /usr/local/lib/python3.10/dist-packages (from pmdarima) (1.4.2)\n",
            "Requirement already satisfied: Cython!=0.29.18,!=0.29.31,>=0.29 in /usr/local/lib/python3.10/dist-packages (from pmdarima) (3.0.11)\n",
            "Requirement already satisfied: scipy>=1.3.2 in /usr/local/lib/python3.10/dist-packages (from pmdarima) (1.13.1)\n",
            "Requirement already satisfied: statsmodels>=0.13.2 in /usr/local/lib/python3.10/dist-packages (from pmdarima) (0.14.2)\n",
            "Requirement already satisfied: urllib3 in /usr/local/lib/python3.10/dist-packages (from pmdarima) (2.0.7)\n",
            "Requirement already satisfied: setuptools!=50.0.0,>=38.6.0 in /usr/local/lib/python3.10/dist-packages (from pmdarima) (71.0.4)\n",
            "Requirement already satisfied: packaging>=17.1 in /usr/local/lib/python3.10/dist-packages (from pmdarima) (24.1)\n",
            "Requirement already satisfied: threadpoolctl>=2.0.0 in /usr/local/lib/python3.10/dist-packages (from scikit-learn) (3.5.0)\n",
            "Requirement already satisfied: soupsieve>1.2 in /usr/local/lib/python3.10/dist-packages (from beautifulsoup4>=4.11.1->yfinance) (2.6)\n",
            "Requirement already satisfied: six>=1.9 in /usr/local/lib/python3.10/dist-packages (from html5lib>=1.1->yfinance) (1.16.0)\n",
            "Requirement already satisfied: webencodings in /usr/local/lib/python3.10/dist-packages (from html5lib>=1.1->yfinance) (0.5.1)\n",
            "Requirement already satisfied: charset-normalizer<4,>=2 in /usr/local/lib/python3.10/dist-packages (from requests>=2.31->yfinance) (3.3.2)\n",
            "Requirement already satisfied: idna<4,>=2.5 in /usr/local/lib/python3.10/dist-packages (from requests>=2.31->yfinance) (3.8)\n",
            "Requirement already satisfied: certifi>=2017.4.17 in /usr/local/lib/python3.10/dist-packages (from requests>=2.31->yfinance) (2024.7.4)\n",
            "Requirement already satisfied: patsy>=0.5.6 in /usr/local/lib/python3.10/dist-packages (from statsmodels>=0.13.2->pmdarima) (0.5.6)\n",
            "Downloading pmdarima-2.0.4-cp310-cp310-manylinux_2_17_x86_64.manylinux2014_x86_64.manylinux_2_28_x86_64.whl (2.1 MB)\n",
            "\u001b[2K   \u001b[90m━━━━━━━━━━━━━━━━━━━━━━━━━━━━━━━━━━━━━━━━\u001b[0m \u001b[32m2.1/2.1 MB\u001b[0m \u001b[31m14.5 MB/s\u001b[0m eta \u001b[36m0:00:00\u001b[0m\n",
            "\u001b[?25hInstalling collected packages: pmdarima\n",
            "Successfully installed pmdarima-2.0.4\n"
          ]
        }
      ],
      "source": [
        "pip install yfinance pandas numpy pmdarima scikit-learn"
      ]
    },
    {
      "cell_type": "code",
      "source": [
        "import yfinance as yf\n",
        "import pandas as pd\n",
        "import numpy as np\n",
        "from pmdarima import auto_arima\n",
        "from sklearn.metrics import mean_squared_error, r2_score\n",
        "from datetime import datetime, timedelta\n",
        "\n",
        "def get_historical_revenue(ticker, start_date, end_date):\n",
        "    company = yf.Ticker(ticker)\n",
        "    financials = company.financials.T  # dates as index\n",
        "    revenue = financials['Total Revenue']\n",
        "    revenue = revenue[(revenue.index >= start_date) & (revenue.index <= end_date)]\n",
        "    revenue = revenue.sort_index().astype(float) / 1e9  # convert to billions\n",
        "\n",
        "    if revenue.empty:\n",
        "        raise ValueError(\"No revenue data for that date range.\")\n",
        "\n",
        "    print(f\"Retrieved revenue data (billions USD):\\n{revenue}\")\n",
        "    return revenue\n",
        "\n",
        "def predict_revenue(ticker, years=5):\n",
        "    end_date = datetime.now().strftime('%Y-%m-%d')\n",
        "    start_date = (datetime.now() - timedelta(days=365*10)).strftime('%Y-%m-%d')\n",
        "\n",
        "    revenue = get_historical_revenue(ticker, start_date, end_date)\n",
        "\n",
        "    if len(revenue) < 4:\n",
        "        raise ValueError(f\"Not enough historical data. Got {len(revenue)} points.\")\n",
        "\n",
        "    revenue.index = pd.to_datetime(revenue.index)  # make sure index is datetime\n",
        "\n",
        "    if revenue.index.inferred_freq != 'A-DEC':\n",
        "        revenue = revenue.resample('A-DEC').last()  # resample to yearly\n",
        "\n",
        "    print(f\"Prepared revenue data for prediction:\\n{revenue}\")\n",
        "\n",
        "    model = auto_arima(revenue.values, seasonal=False, stepwise=True, suppress_warnings=True, error_action=\"ignore\")\n",
        "    forecast = model.predict(n_periods=years)  # forecast revenue\n",
        "\n",
        "    future_dates = pd.date_range(start=revenue.index[-1] + pd.DateOffset(years=1), periods=years, freq='A-DEC')\n",
        "    predicted_revenue = pd.Series(forecast, index=future_dates)\n",
        "\n",
        "    return predicted_revenue\n",
        "\n",
        "def test_model(ticker):\n",
        "    current_date = datetime(2024, 8, 28)\n",
        "    past_date = current_date - timedelta(days=365*10)  # get 10 years of data\n",
        "\n",
        "    actual_revenue = get_historical_revenue(ticker, past_date.strftime('%Y-%m-%d'), current_date.strftime('%Y-%m-%d'))\n",
        "    print(f\"Actual revenue data (billions USD):\\n{actual_revenue}\")\n",
        "\n",
        "    if len(actual_revenue) < 4:\n",
        "        raise ValueError(f\"Not enough historical data for testing. Got {len(actual_revenue)} points.\")\n",
        "\n",
        "    if len(actual_revenue) > 1:\n",
        "        train_data = actual_revenue.iloc[:-1]\n",
        "        test_data = actual_revenue.iloc[-1:]\n",
        "\n",
        "        model = auto_arima(train_data.values, seasonal=False, stepwise=True, suppress_warnings=True, error_action=\"ignore\")\n",
        "        prediction = model.predict(n_periods=1)\n",
        "        prediction = pd.Series(prediction, index=test_data.index)\n",
        "\n",
        "        print(f\"prediction for testing:\\n{prediction}\")\n",
        "\n",
        "        comparison = pd.concat([test_data, prediction], axis=1)\n",
        "        comparison.columns = ['Actual', 'Predicted']\n",
        "\n",
        "        mse = mean_squared_error(comparison['Actual'], comparison['Predicted'])\n",
        "        r2 = r2_score(comparison['Actual'], comparison['Predicted'])\n",
        "\n",
        "        print(f\"MSE: {mse}\")\n",
        "        print(f\"R² Score: {r2}\")\n",
        "        print(\"\\nComparison (billions USD):\")\n",
        "        print(comparison)\n",
        "    else:\n",
        "        print(\"Not enough data for training/testing split.\")\n",
        "\n",
        "ticker = 'AAPL'  # can be any ticker\n",
        "try:\n",
        "    future_revenue = predict_revenue(ticker)\n",
        "    print(f\"5-Year Revenue Prediction for {ticker} (billions USD):\")\n",
        "    print(future_revenue)\n",
        "\n",
        "    print(\"\\nTesting model with historical data:\")\n",
        "    test_model(ticker)\n",
        "except Exception as e:\n",
        "    print(f\"Error: {e}\")\n",
        "    print(\"Try a different company or time range.\")\n"
      ],
      "metadata": {
        "colab": {
          "base_uri": "https://localhost:8080/"
        },
        "id": "iQUD_ugjlm-T",
        "outputId": "7750e354-3dd7-4cf7-e150-6867ff0d47ef"
      },
      "execution_count": null,
      "outputs": [
        {
          "output_type": "stream",
          "name": "stdout",
          "text": [
            "Retrieved revenue data (in billions USD):\n",
            "2020-09-30    274.515\n",
            "2021-09-30    365.817\n",
            "2022-09-30    394.328\n",
            "2023-09-30    383.285\n",
            "Name: Total Revenue, dtype: float64\n",
            "Prepared revenue data for prediction (in billions USD):\n",
            "2020-12-31    274.515\n",
            "2021-12-31    365.817\n",
            "2022-12-31    394.328\n",
            "2023-12-31    383.285\n",
            "Freq: A-DEC, Name: Total Revenue, dtype: float64\n",
            "5-Year Revenue Prediction for AAPL (in billions USD):\n",
            "2024-12-31    354.48625\n",
            "2025-12-31    354.48625\n",
            "2026-12-31    354.48625\n",
            "2027-12-31    354.48625\n",
            "2028-12-31    354.48625\n",
            "Freq: A-DEC, dtype: float64\n",
            "\n",
            "Testing the model with historical data:\n",
            "Retrieved revenue data (in billions USD):\n",
            "2020-09-30    274.515\n",
            "2021-09-30    365.817\n",
            "2022-09-30    394.328\n",
            "2023-09-30    383.285\n",
            "Name: Total Revenue, dtype: float64\n",
            "Retrieved actual revenue data for testing (in billions USD):\n",
            "2020-09-30    274.515\n",
            "2021-09-30    365.817\n",
            "2022-09-30    394.328\n",
            "2023-09-30    383.285\n",
            "Name: Total Revenue, dtype: float64\n",
            "Prediction for testing (in billions USD):\n",
            "2023-09-30    344.886667\n",
            "dtype: float64\n",
            "Mean Squared Error: 1474.4320027777806\n",
            "R-squared Score: nan\n",
            "\n",
            "Comparison (in billions USD):\n",
            "             Actual   Predicted\n",
            "2023-09-30  383.285  344.886667\n"
          ]
        },
        {
          "output_type": "stream",
          "name": "stderr",
          "text": [
            "/usr/local/lib/python3.10/dist-packages/sklearn/metrics/_regression.py:996: UndefinedMetricWarning: R^2 score is not well-defined with less than two samples.\n",
            "  warnings.warn(msg, UndefinedMetricWarning)\n"
          ]
        }
      ]
    },
    {
      "cell_type": "code",
      "source": [],
      "metadata": {
        "id": "MO2A-8pHoV70"
      },
      "execution_count": null,
      "outputs": []
    }
  ]
}
